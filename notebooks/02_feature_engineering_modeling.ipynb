{
 "cells": [
  {
   "cell_type": "code",
   "execution_count": 1,
   "id": "fa6902d4-d129-4ebe-a48c-d5e267992d5b",
   "metadata": {},
   "outputs": [],
   "source": [
    "import pandas as pd"
   ]
  },
  {
   "cell_type": "markdown",
   "id": "6f7a1c4a-b00f-4f5f-8ab9-76cfad9546e6",
   "metadata": {},
   "source": [
    "### 1. Load Cleaned Data"
   ]
  },
  {
   "cell_type": "code",
   "execution_count": 2,
   "id": "e05121fe-af44-404a-acb8-2185b284e5ee",
   "metadata": {},
   "outputs": [],
   "source": [
    "df = pd.read_csv(\"../data/processed/diabetes_cleaned.csv\")"
   ]
  },
  {
   "cell_type": "code",
   "execution_count": 3,
   "id": "d5b93a95-302f-475f-8d05-3568632a23ec",
   "metadata": {},
   "outputs": [
    {
     "data": {
      "text/html": [
       "<div>\n",
       "<style scoped>\n",
       "    .dataframe tbody tr th:only-of-type {\n",
       "        vertical-align: middle;\n",
       "    }\n",
       "\n",
       "    .dataframe tbody tr th {\n",
       "        vertical-align: top;\n",
       "    }\n",
       "\n",
       "    .dataframe thead th {\n",
       "        text-align: right;\n",
       "    }\n",
       "</style>\n",
       "<table border=\"1\" class=\"dataframe\">\n",
       "  <thead>\n",
       "    <tr style=\"text-align: right;\">\n",
       "      <th></th>\n",
       "      <th>pregnancies</th>\n",
       "      <th>glucose</th>\n",
       "      <th>blood_pressure</th>\n",
       "      <th>skin_thickness</th>\n",
       "      <th>insulin</th>\n",
       "      <th>bmi</th>\n",
       "      <th>pedigree_function</th>\n",
       "      <th>age</th>\n",
       "      <th>diabetic</th>\n",
       "    </tr>\n",
       "  </thead>\n",
       "  <tbody>\n",
       "    <tr>\n",
       "      <th>0</th>\n",
       "      <td>6</td>\n",
       "      <td>148</td>\n",
       "      <td>72</td>\n",
       "      <td>35</td>\n",
       "      <td>0</td>\n",
       "      <td>33.6</td>\n",
       "      <td>0.627</td>\n",
       "      <td>50</td>\n",
       "      <td>1</td>\n",
       "    </tr>\n",
       "    <tr>\n",
       "      <th>1</th>\n",
       "      <td>1</td>\n",
       "      <td>85</td>\n",
       "      <td>66</td>\n",
       "      <td>29</td>\n",
       "      <td>0</td>\n",
       "      <td>26.6</td>\n",
       "      <td>0.351</td>\n",
       "      <td>31</td>\n",
       "      <td>0</td>\n",
       "    </tr>\n",
       "    <tr>\n",
       "      <th>2</th>\n",
       "      <td>8</td>\n",
       "      <td>183</td>\n",
       "      <td>64</td>\n",
       "      <td>0</td>\n",
       "      <td>0</td>\n",
       "      <td>23.3</td>\n",
       "      <td>0.672</td>\n",
       "      <td>32</td>\n",
       "      <td>1</td>\n",
       "    </tr>\n",
       "    <tr>\n",
       "      <th>3</th>\n",
       "      <td>1</td>\n",
       "      <td>89</td>\n",
       "      <td>66</td>\n",
       "      <td>23</td>\n",
       "      <td>94</td>\n",
       "      <td>28.1</td>\n",
       "      <td>0.167</td>\n",
       "      <td>21</td>\n",
       "      <td>0</td>\n",
       "    </tr>\n",
       "    <tr>\n",
       "      <th>4</th>\n",
       "      <td>5</td>\n",
       "      <td>116</td>\n",
       "      <td>74</td>\n",
       "      <td>0</td>\n",
       "      <td>0</td>\n",
       "      <td>25.6</td>\n",
       "      <td>0.201</td>\n",
       "      <td>30</td>\n",
       "      <td>0</td>\n",
       "    </tr>\n",
       "  </tbody>\n",
       "</table>\n",
       "</div>"
      ],
      "text/plain": [
       "   pregnancies  glucose  blood_pressure  skin_thickness  insulin   bmi  \\\n",
       "0            6      148              72              35        0  33.6   \n",
       "1            1       85              66              29        0  26.6   \n",
       "2            8      183              64               0        0  23.3   \n",
       "3            1       89              66              23       94  28.1   \n",
       "4            5      116              74               0        0  25.6   \n",
       "\n",
       "   pedigree_function  age  diabetic  \n",
       "0              0.627   50         1  \n",
       "1              0.351   31         0  \n",
       "2              0.672   32         1  \n",
       "3              0.167   21         0  \n",
       "4              0.201   30         0  "
      ]
     },
     "execution_count": 3,
     "metadata": {},
     "output_type": "execute_result"
    }
   ],
   "source": [
    "df.head()"
   ]
  },
  {
   "cell_type": "markdown",
   "id": "71b7a93f-e662-4bd1-b127-60bde33cd526",
   "metadata": {},
   "source": [
    "### 2. Split Features and Target"
   ]
  },
  {
   "cell_type": "markdown",
   "id": "226557cc-a480-4a8b-b33c-43141afc5403",
   "metadata": {},
   "source": [
    "##### Define X (features) and y (target label)"
   ]
  },
  {
   "cell_type": "code",
   "execution_count": 4,
   "id": "a4e9bd83-6f32-4d34-93fc-eb24b0c61a10",
   "metadata": {},
   "outputs": [],
   "source": [
    "X = df.drop(\"diabetic\", axis=1)\n",
    "y = df[\"diabetic\"]"
   ]
  },
  {
   "cell_type": "markdown",
   "id": "5ab071ec-5d57-47d4-acac-2708ef3ba111",
   "metadata": {},
   "source": [
    "#### 3. Feature Scaling (Standardization)\n",
    "##### Apply StandardScaler to scale numeric features"
   ]
  },
  {
   "cell_type": "code",
   "execution_count": 5,
   "id": "f82042a1-ee1f-460b-8bd6-96fac4d493ef",
   "metadata": {},
   "outputs": [],
   "source": [
    "from sklearn.preprocessing import StandardScaler\n",
    "\n",
    "scaler = StandardScaler()\n",
    "X_scaled = scaler.fit_transform(X)"
   ]
  },
  {
   "cell_type": "markdown",
   "id": "a66b871c-2533-4b37-b338-625237c1c131",
   "metadata": {},
   "source": [
    "### 4. Feature Selection\n",
    "#### Use one or more of the following:\n",
    "\n",
    "#### SelectKBest\n",
    "\n",
    "#### RFE (Recursive Feature Elimination)\n",
    "\n",
    "#### RFECV (with cross-validation)"
   ]
  },
  {
   "cell_type": "code",
   "execution_count": 6,
   "id": "ada28498-02d5-4d12-8ba0-6090fd428200",
   "metadata": {},
   "outputs": [],
   "source": [
    "from sklearn.feature_selection import SelectKBest, f_classif\n",
    "\n",
    "selector = SelectKBest(score_func=f_classif, k=6)\n",
    "X_selected = selector.fit_transform(X_scaled, y)\n"
   ]
  },
  {
   "cell_type": "markdown",
   "id": "29cd966b-fdc8-42e4-8213-1158338ee23d",
   "metadata": {},
   "source": [
    "#### 5. Train-Test Split\n",
    "##### Split the dataset into training and testing sets"
   ]
  },
  {
   "cell_type": "code",
   "execution_count": 7,
   "id": "a302fd59-d268-4770-8cfd-76579b39e160",
   "metadata": {},
   "outputs": [],
   "source": [
    "from sklearn.model_selection import train_test_split\n",
    "\n",
    "X_train, X_test, y_train, y_test = train_test_split(X_selected, y, test_size=0.2, random_state=42)\n"
   ]
  },
  {
   "cell_type": "markdown",
   "id": "b1e2c8a9-fd07-4df2-bc82-ff368c2ef6bd",
   "metadata": {},
   "source": [
    "#### 6. Handle Class Imbalance (SMOTE)\n",
    "##### Apply SMOTE to balance the classes"
   ]
  },
  {
   "cell_type": "code",
   "execution_count": 8,
   "id": "874ddb7c-ee55-4c1d-9dd4-ac29c179b4fc",
   "metadata": {},
   "outputs": [],
   "source": [
    "from imblearn.over_sampling import SMOTE\n",
    "\n",
    "sm = SMOTE(random_state=42)\n",
    "X_train_res, y_train_res = sm.fit_resample(X_train, y_train)\n"
   ]
  },
  {
   "cell_type": "markdown",
   "id": "83775342-5d77-425c-b6a9-504b86dbb7fb",
   "metadata": {},
   "source": [
    "#### 7. Train Models"
   ]
  },
  {
   "cell_type": "markdown",
   "id": "60df418a-5d57-4abc-af03-7e2fb2546482",
   "metadata": {},
   "source": [
    "##### Train and evaluate multiple models:\n",
    "\n",
    "##### Logistic Regression\n",
    "\n",
    "##### Random Forest\n",
    "\n",
    "##### XGBoost"
   ]
  },
  {
   "cell_type": "markdown",
   "id": "2b1a83fc-71f9-47c3-a249-77fa2b34e5c3",
   "metadata": {},
   "source": [
    "#### 1. Logistic Regression"
   ]
  },
  {
   "cell_type": "code",
   "execution_count": 30,
   "id": "98cd0c1d-08e4-4de5-a252-4eaf9edbf3fc",
   "metadata": {},
   "outputs": [
    {
     "name": "stdout",
     "output_type": "stream",
     "text": [
      " Logistic Regression Results\n",
      "              precision    recall  f1-score   support\n",
      "\n",
      "           0       0.80      0.74      0.77        92\n",
      "           1       0.44      0.53      0.48        36\n",
      "\n",
      "    accuracy                           0.68       128\n",
      "   macro avg       0.62      0.63      0.62       128\n",
      "weighted avg       0.70      0.68      0.69       128\n",
      "\n"
     ]
    }
   ],
   "source": [
    "from sklearn.linear_model import LogisticRegression\n",
    "from sklearn.metrics import classification_report\n",
    "\n",
    "log_reg = LogisticRegression(max_iter=1000, random_state=42)\n",
    "log_reg.fit(X_train_res, y_train_res)\n",
    "y_pred_lr = log_reg.predict(X_test)\n",
    "y_proba_lr = log_reg.predict_proba(X_test)[:, 1]\n",
    "\n",
    "print(\" Logistic Regression Results\")\n",
    "print(classification_report(y_test, y_pred_lr))\n"
   ]
  },
  {
   "cell_type": "markdown",
   "id": "9ea2333a-5efd-4c09-b7c2-fa0f830fffef",
   "metadata": {},
   "source": [
    "#### 2. Random Forest"
   ]
  },
  {
   "cell_type": "code",
   "execution_count": 31,
   "id": "8142f10d-7bbd-46e8-ae9a-f98d16d772bd",
   "metadata": {},
   "outputs": [
    {
     "name": "stdout",
     "output_type": "stream",
     "text": [
      " Random Forest Results\n",
      "              precision    recall  f1-score   support\n",
      "\n",
      "           0       0.85      0.80      0.83        92\n",
      "           1       0.56      0.64      0.60        36\n",
      "\n",
      "    accuracy                           0.76       128\n",
      "   macro avg       0.71      0.72      0.71       128\n",
      "weighted avg       0.77      0.76      0.76       128\n",
      "\n"
     ]
    }
   ],
   "source": [
    "from sklearn.ensemble import RandomForestClassifier\n",
    "\n",
    "rf_model = RandomForestClassifier(random_state=42)\n",
    "rf_model.fit(X_train_res, y_train_res)\n",
    "y_pred_rf = rf_model.predict(X_test)\n",
    "y_proba_rf = rf_model.predict_proba(X_test)[:, 1]\n",
    "\n",
    "print(\" Random Forest Results\")\n",
    "print(classification_report(y_test, y_pred_rf))\n"
   ]
  },
  {
   "cell_type": "markdown",
   "id": "3019c99c-e995-4f49-a23f-ad3131e6a84d",
   "metadata": {},
   "source": [
    "#### 3. XGBoost"
   ]
  },
  {
   "cell_type": "code",
   "execution_count": 32,
   "id": "e85db61d-9298-41fa-aeee-0c20efce4fdf",
   "metadata": {},
   "outputs": [
    {
     "name": "stdout",
     "output_type": "stream",
     "text": [
      "⚡ XGBoost Results\n",
      "              precision    recall  f1-score   support\n",
      "\n",
      "           0       0.85      0.74      0.79        92\n",
      "           1       0.50      0.67      0.57        36\n",
      "\n",
      "    accuracy                           0.72       128\n",
      "   macro avg       0.68      0.70      0.68       128\n",
      "weighted avg       0.75      0.72      0.73       128\n",
      "\n"
     ]
    },
    {
     "name": "stderr",
     "output_type": "stream",
     "text": [
      "/usr/local/anaconda3/envs/MSC/lib/python3.11/site-packages/xgboost/training.py:183: UserWarning: [20:41:02] WARNING: /var/folders/sy/f16zz6x50xz3113nwtb9bvq00000gp/T/abs_7eg2b3w9sf/croot/xgboost-split_1749630922962/work/src/learner.cc:738: \n",
      "Parameters: { \"use_label_encoder\" } are not used.\n",
      "\n",
      "  bst.update(dtrain, iteration=i, fobj=obj)\n"
     ]
    }
   ],
   "source": [
    "from xgboost import XGBClassifier\n",
    "\n",
    "xgb_model = XGBClassifier(use_label_encoder=False, eval_metric='logloss', random_state=42)\n",
    "xgb_model.fit(X_train_res, y_train_res)\n",
    "y_pred_xgb = xgb_model.predict(X_test)\n",
    "y_proba_xgb = xgb_model.predict_proba(X_test)[:, 1]\n",
    "\n",
    "print(\"⚡ XGBoost Results\")\n",
    "print(classification_report(y_test, y_pred_xgb))\n"
   ]
  },
  {
   "cell_type": "markdown",
   "id": "9ebb7cdf-d483-4558-9395-53dfd3f3e102",
   "metadata": {},
   "source": [
    "### Compare All Models Visually"
   ]
  },
  {
   "cell_type": "markdown",
   "id": "4e8efbfe-8ec2-430e-8f3a-6e97a4c42c18",
   "metadata": {},
   "source": [
    "#### Visualize Model Comparison with Bar Charts"
   ]
  },
  {
   "cell_type": "code",
   "execution_count": 33,
   "id": "863b95c0-4ab6-4aac-b648-f39df72d927c",
   "metadata": {},
   "outputs": [],
   "source": [
    "import pandas as pd\n",
    "from sklearn.metrics import accuracy_score, precision_score, recall_score, f1_score, roc_auc_score, roc_curve, auc\n",
    "\n",
    "# AUC values\n",
    "auc_lr = auc(*roc_curve(y_test, y_proba_lr)[:2])\n",
    "auc_rf = auc(*roc_curve(y_test, y_proba_rf)[:2])\n",
    "auc_xgb = auc(*roc_curve(y_test, y_proba_xgb)[:2])\n",
    "\n",
    "# Data for plotting\n",
    "metrics_df = pd.DataFrame({\n",
    "    \"Model\": [\"Logistic Regression\", \"Random Forest\", \"XGBoost\"],\n",
    "    \"Accuracy\": [\n",
    "        accuracy_score(y_test, y_pred_lr),\n",
    "        accuracy_score(y_test, y_pred_rf),\n",
    "        accuracy_score(y_test, y_pred_xgb),\n",
    "    ],\n",
    "    \"Precision\": [\n",
    "        precision_score(y_test, y_pred_lr),\n",
    "        precision_score(y_test, y_pred_rf),\n",
    "        precision_score(y_test, y_pred_xgb),\n",
    "    ],\n",
    "    \"Recall\": [\n",
    "        recall_score(y_test, y_pred_lr),\n",
    "        recall_score(y_test, y_pred_rf),\n",
    "        recall_score(y_test, y_pred_xgb),\n",
    "    ],\n",
    "    \"F1 Score\": [\n",
    "        f1_score(y_test, y_pred_lr),\n",
    "        f1_score(y_test, y_pred_rf),\n",
    "        f1_score(y_test, y_pred_xgb),\n",
    "    ],\n",
    "    \"ROC AUC\": [auc_lr, auc_rf, auc_xgb]\n",
    "})\n",
    "\n",
    "metrics_df.set_index(\"Model\", inplace=True)\n"
   ]
  },
  {
   "cell_type": "code",
   "execution_count": 34,
   "id": "bb7c255f-53a4-47e3-aa6c-1fedba06417c",
   "metadata": {},
   "outputs": [
    {
     "name": "stderr",
     "output_type": "stream",
     "text": [
      "/var/folders/xb/pyk74hnn56sf6xk3d2grf0_h0000gp/T/ipykernel_47179/1931811568.py:12: UserWarning: Glyph 128202 (\\N{BAR CHART}) missing from current font.\n",
      "  plt.tight_layout()\n",
      "/usr/local/anaconda3/envs/MSC/lib/python3.11/site-packages/IPython/core/pylabtools.py:152: UserWarning: Glyph 128202 (\\N{BAR CHART}) missing from current font.\n",
      "  fig.canvas.print_figure(bytes_io, **kw)\n"
     ]
    },
    {
     "data": {
      "image/png": "[encoded data removed]",
      "text/plain": [
       "<Figure size 1200x600 with 1 Axes>"
      ]
     },
     "metadata": {},
     "output_type": "display_data"
    }
   ],
   "source": [
    "import matplotlib.pyplot as plt\n",
    "\n",
    "# Plot settings\n",
    "metrics_df.plot(kind=\"bar\", figsize=(12, 6), colormap=\"Set2\", edgecolor=\"black\")\n",
    "\n",
    "plt.title(\"📊 Comparison of Model Performance Metrics\", fontsize=14)\n",
    "plt.ylabel(\"Score\")\n",
    "plt.ylim(0, 1.1)\n",
    "plt.grid(axis=\"y\", linestyle=\"--\", alpha=0.7)\n",
    "plt.xticks(rotation=0)\n",
    "plt.legend(loc=\"lower right\", bbox_to_anchor=(1.15, 0.3))\n",
    "plt.tight_layout()\n",
    "plt.show()\n"
   ]
  },
  {
   "cell_type": "code",
   "execution_count": null,
   "id": "6b953149-81d4-429a-b807-bb91a929bc4f",
   "metadata": {},
   "outputs": [],
   "source": []
  }
 ],
 "metadata": {
  "kernelspec": {
   "display_name": "Python 3 (ipykernel)",
   "language": "python",
   "name": "python3"
  },
  "language_info": {
   "codemirror_mode": {
    "name": "ipython",
    "version": 3
   },
   "file_extension": ".py",
   "mimetype": "text/x-python",
   "name": "python",
   "nbconvert_exporter": "python",
   "pygments_lexer": "ipython3",
   "version": "3.11.8"
  }
 },
 "nbformat": 4,
 "nbformat_minor": 5
}
