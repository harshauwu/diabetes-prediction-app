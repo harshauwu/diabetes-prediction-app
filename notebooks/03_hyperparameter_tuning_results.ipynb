{
 "cells": [
  {
   "cell_type": "markdown",
   "id": "092514c5-007f-4686-b6f4-69d85fa8e467",
   "metadata": {},
   "source": [
    "### Import Dependencies"
   ]
  },
  {
   "cell_type": "code",
   "execution_count": 2,
   "id": "50738439-9db4-4891-8a8f-c5a74ca8b4c0",
   "metadata": {},
   "outputs": [],
   "source": [
    "from sklearn.model_selection import GridSearchCV\n",
    "from sklearn.linear_model import LogisticRegression\n",
    "from sklearn.ensemble import RandomForestClassifier\n",
    "from xgboost import XGBClassifier\n",
    "from sklearn.metrics import classification_report, roc_curve, auc, accuracy_score, precision_score, recall_score, f1_score\n",
    "import pandas as pd\n",
    "import matplotlib.pyplot as plt\n"
   ]
  },
  {
   "cell_type": "markdown",
   "id": "8840e39e-72cf-4812-a7f7-b06e75623dfb",
   "metadata": {},
   "source": [
    "##### To optimize model performance using GridSearchCV or RandomizedSearchCV on:\n",
    "\n",
    "##### Logistic Regression\n",
    "\n",
    "##### Random Forest\n",
    "\n",
    "##### XGBoost"
   ]
  },
  {
   "cell_type": "markdown",
   "id": "37d2b435-7c71-4865-a66b-7ea7f7c4070b",
   "metadata": {},
   "source": [
    "### 2: Load/Reuse Processed Data"
   ]
  },
  {
   "cell_type": "code",
   "execution_count": 10,
   "id": "06ad5f9e-2876-4fea-93ed-84d0bc77bb53",
   "metadata": {},
   "outputs": [],
   "source": [
    "df = pd.read_csv(\"../data/processed/diabetes_cleaned.csv\")"
   ]
  },
  {
   "cell_type": "code",
   "execution_count": 11,
   "id": "515df180-2b6b-4354-b8d4-d37c85cfcb8b",
   "metadata": {},
   "outputs": [],
   "source": [
    "X = df.drop(\"diabetic\", axis=1)\n",
    "y = df[\"diabetic\"]"
   ]
  },
  {
   "cell_type": "code",
   "execution_count": 12,
   "id": "bc139039-be6f-405e-bf7c-69f36b34ae46",
   "metadata": {},
   "outputs": [],
   "source": [
    "from sklearn.preprocessing import StandardScaler\n",
    "\n",
    "scaler = StandardScaler()\n",
    "X_scaled = scaler.fit_transform(X)"
   ]
  },
  {
   "cell_type": "code",
   "execution_count": 13,
   "id": "5c982b72-991a-441e-a475-ef8998306a97",
   "metadata": {},
   "outputs": [],
   "source": [
    "from sklearn.feature_selection import SelectKBest, f_classif\n",
    "\n",
    "selector = SelectKBest(score_func=f_classif, k=6)\n",
    "X_selected = selector.fit_transform(X_scaled, y)\n"
   ]
  },
  {
   "cell_type": "code",
   "execution_count": 14,
   "id": "18075e83-b0b9-463b-a8c7-739bdeebba19",
   "metadata": {},
   "outputs": [],
   "source": [
    "from sklearn.model_selection import train_test_split\n",
    "\n",
    "X_train, X_test, y_train, y_test = train_test_split(X_selected, y, test_size=0.2, random_state=42)\n"
   ]
  },
  {
   "cell_type": "code",
   "execution_count": 15,
   "id": "dbc2a8b6-2127-47a5-a506-e96f5d28db59",
   "metadata": {},
   "outputs": [],
   "source": [
    "from imblearn.over_sampling import SMOTE\n",
    "\n",
    "sm = SMOTE(random_state=42)\n",
    "X_train_res, y_train_res = sm.fit_resample(X_train, y_train)\n"
   ]
  },
  {
   "cell_type": "markdown",
   "id": "cd992757-7ef7-4bb9-b18f-da90a0d496e9",
   "metadata": {},
   "source": [
    "#### 1. Logistic Regression"
   ]
  },
  {
   "cell_type": "code",
   "execution_count": 17,
   "id": "64a3e8d4-1d9d-4c87-bbdd-8eb29ae3d54f",
   "metadata": {},
   "outputs": [
    {
     "name": "stdout",
     "output_type": "stream",
     "text": [
      " Logistic Regression Results\n",
      "              precision    recall  f1-score   support\n",
      "\n",
      "           0       0.80      0.74      0.77        92\n",
      "           1       0.44      0.53      0.48        36\n",
      "\n",
      "    accuracy                           0.68       128\n",
      "   macro avg       0.62      0.63      0.62       128\n",
      "weighted avg       0.70      0.68      0.69       128\n",
      "\n"
     ]
    }
   ],
   "source": [
    "from sklearn.linear_model import LogisticRegression\n",
    "from sklearn.metrics import classification_report\n",
    "\n",
    "log_reg = LogisticRegression(max_iter=1000, random_state=42)\n",
    "log_reg.fit(X_train_res, y_train_res)\n",
    "y_pred_lr = log_reg.predict(X_test)\n",
    "y_proba_lr = log_reg.predict_proba(X_test)[:, 1]\n",
    "\n",
    "print(\" Logistic Regression Results\")\n",
    "print(classification_report(y_test, y_pred_lr))\n"
   ]
  },
  {
   "cell_type": "markdown",
   "id": "ce13e479-f29c-43ff-bbf4-dff7405ea10e",
   "metadata": {},
   "source": [
    "#### 2. Random Forest\n"
   ]
  },
  {
   "cell_type": "code",
   "execution_count": 18,
   "id": "ca5a1dcc-bc6e-448b-abc6-9c2890738e6a",
   "metadata": {},
   "outputs": [
    {
     "name": "stdout",
     "output_type": "stream",
     "text": [
      " Random Forest Results\n",
      "              precision    recall  f1-score   support\n",
      "\n",
      "           0       0.85      0.80      0.83        92\n",
      "           1       0.56      0.64      0.60        36\n",
      "\n",
      "    accuracy                           0.76       128\n",
      "   macro avg       0.71      0.72      0.71       128\n",
      "weighted avg       0.77      0.76      0.76       128\n",
      "\n"
     ]
    }
   ],
   "source": [
    "from sklearn.ensemble import RandomForestClassifier\n",
    "\n",
    "rf_model = RandomForestClassifier(random_state=42)\n",
    "rf_model.fit(X_train_res, y_train_res)\n",
    "y_pred_rf = rf_model.predict(X_test)\n",
    "y_proba_rf = rf_model.predict_proba(X_test)[:, 1]\n",
    "\n",
    "print(\" Random Forest Results\")\n",
    "print(classification_report(y_test, y_pred_rf))\n"
   ]
  },
  {
   "cell_type": "markdown",
   "id": "f69b9571-1fc2-4557-b55c-4d161f71c63f",
   "metadata": {},
   "source": [
    "#### 3. XGBoost"
   ]
  },
  {
   "cell_type": "code",
   "execution_count": 19,
   "id": "6972b0a0-af98-48f8-9227-238ee1ea3bed",
   "metadata": {},
   "outputs": [
    {
     "name": "stdout",
     "output_type": "stream",
     "text": [
      "⚡ XGBoost Results\n",
      "              precision    recall  f1-score   support\n",
      "\n",
      "           0       0.85      0.74      0.79        92\n",
      "           1       0.50      0.67      0.57        36\n",
      "\n",
      "    accuracy                           0.72       128\n",
      "   macro avg       0.68      0.70      0.68       128\n",
      "weighted avg       0.75      0.72      0.73       128\n",
      "\n"
     ]
    },
    {
     "name": "stderr",
     "output_type": "stream",
     "text": [
      "/usr/local/anaconda3/envs/MSC/lib/python3.11/site-packages/xgboost/training.py:183: UserWarning: [20:45:33] WARNING: /var/folders/sy/f16zz6x50xz3113nwtb9bvq00000gp/T/abs_7eg2b3w9sf/croot/xgboost-split_1749630922962/work/src/learner.cc:738: \n",
      "Parameters: { \"use_label_encoder\" } are not used.\n",
      "\n",
      "  bst.update(dtrain, iteration=i, fobj=obj)\n"
     ]
    }
   ],
   "source": [
    "from xgboost import XGBClassifier\n",
    "\n",
    "xgb_model = XGBClassifier(use_label_encoder=False, eval_metric='logloss', random_state=42)\n",
    "xgb_model.fit(X_train_res, y_train_res)\n",
    "y_pred_xgb = xgb_model.predict(X_test)\n",
    "y_proba_xgb = xgb_model.predict_proba(X_test)[:, 1]\n",
    "\n",
    "print(\"⚡ XGBoost Results\")\n",
    "print(classification_report(y_test, y_pred_xgb))\n"
   ]
  },
  {
   "cell_type": "markdown",
   "id": "0ffd56cf-6d40-4a33-b75b-1991a27c9d1e",
   "metadata": {},
   "source": [
    "### 3: Define Parameter Grids"
   ]
  },
  {
   "cell_type": "code",
   "execution_count": 4,
   "id": "0867524f-2ab0-45fe-913a-a102b691275b",
   "metadata": {},
   "outputs": [],
   "source": [
    "# Logistic Regression\n",
    "lr_param_grid = {\n",
    "    'C': [0.01, 0.1, 1, 10, 100],\n",
    "    'solver': ['liblinear', 'lbfgs']\n",
    "}"
   ]
  },
  {
   "cell_type": "code",
   "execution_count": 5,
   "id": "1ff080e1-34dd-4506-b97a-339f634153c5",
   "metadata": {},
   "outputs": [],
   "source": [
    "# Random Forest\n",
    "rf_param_grid = {\n",
    "    'n_estimators': [100, 200],\n",
    "    'max_depth': [None, 5, 10],\n",
    "    'min_samples_split': [2, 5]\n",
    "}\n"
   ]
  },
  {
   "cell_type": "code",
   "execution_count": 6,
   "id": "aedba4e9-f2dd-464e-8f7e-dd701cd9dc85",
   "metadata": {},
   "outputs": [],
   "source": [
    "# XGBoost\n",
    "xgb_param_grid = {\n",
    "    'n_estimators': [100, 200],\n",
    "    'max_depth': [3, 6],\n",
    "    'learning_rate': [0.01, 0.1, 0.2]\n",
    "}"
   ]
  },
  {
   "cell_type": "markdown",
   "id": "79a746f7-5e6b-4907-a8a8-4ecd881cffb2",
   "metadata": {},
   "source": [
    "### 4: Perform Grid Search"
   ]
  },
  {
   "cell_type": "code",
   "execution_count": 20,
   "id": "43bc7d4b-41ad-4ed6-b60a-920dfb9716ac",
   "metadata": {},
   "outputs": [],
   "source": [
    "# Logistic Regression\n",
    "lr_grid = GridSearchCV(LogisticRegression(max_iter=1000), lr_param_grid, cv=5, scoring='f1')\n",
    "lr_grid.fit(X_train_res, y_train_res)\n",
    "best_lr = lr_grid.best_estimator_"
   ]
  },
  {
   "cell_type": "code",
   "execution_count": 21,
   "id": "294fea9d-2ef9-44c3-9ced-3cfbbd21d6c1",
   "metadata": {},
   "outputs": [],
   "source": [
    "# Random Forest\n",
    "rf_grid = GridSearchCV(RandomForestClassifier(), rf_param_grid, cv=5, scoring='f1')\n",
    "rf_grid.fit(X_train_res, y_train_res)\n",
    "best_rf = rf_grid.best_estimator_"
   ]
  },
  {
   "cell_type": "code",
   "execution_count": 22,
   "id": "ccd9243e-9a7e-4f31-8bf6-03fc50f1626f",
   "metadata": {},
   "outputs": [
    {
     "name": "stderr",
     "output_type": "stream",
     "text": [
      "/usr/local/anaconda3/envs/MSC/lib/python3.11/site-packages/xgboost/training.py:183: UserWarning: [20:46:11] WARNING: /var/folders/sy/f16zz6x50xz3113nwtb9bvq00000gp/T/abs_7eg2b3w9sf/croot/xgboost-split_1749630922962/work/src/learner.cc:738: \n",
      "Parameters: { \"use_label_encoder\" } are not used.\n",
      "\n",
      "  bst.update(dtrain, iteration=i, fobj=obj)\n",
      "/usr/local/anaconda3/envs/MSC/lib/python3.11/site-packages/xgboost/training.py:183: UserWarning: [20:46:11] WARNING: /var/folders/sy/f16zz6x50xz3113nwtb9bvq00000gp/T/abs_7eg2b3w9sf/croot/xgboost-split_1749630922962/work/src/learner.cc:738: \n",
      "Parameters: { \"use_label_encoder\" } are not used.\n",
      "\n",
      "  bst.update(dtrain, iteration=i, fobj=obj)\n",
      "/usr/local/anaconda3/envs/MSC/lib/python3.11/site-packages/xgboost/training.py:183: UserWarning: [20:46:11] WARNING: /var/folders/sy/f16zz6x50xz3113nwtb9bvq00000gp/T/abs_7eg2b3w9sf/croot/xgboost-split_1749630922962/work/src/learner.cc:738: \n",
      "Parameters: { \"use_label_encoder\" } are not used.\n",
      "\n",
      "  bst.update(dtrain, iteration=i, fobj=obj)\n",
      "/usr/local/anaconda3/envs/MSC/lib/python3.11/site-packages/xgboost/training.py:183: UserWarning: [20:46:11] WARNING: /var/folders/sy/f16zz6x50xz3113nwtb9bvq00000gp/T/abs_7eg2b3w9sf/croot/xgboost-split_1749630922962/work/src/learner.cc:738: \n",
      "Parameters: { \"use_label_encoder\" } are not used.\n",
      "\n",
      "  bst.update(dtrain, iteration=i, fobj=obj)\n",
      "/usr/local/anaconda3/envs/MSC/lib/python3.11/site-packages/xgboost/training.py:183: UserWarning: [20:46:11] WARNING: /var/folders/sy/f16zz6x50xz3113nwtb9bvq00000gp/T/abs_7eg2b3w9sf/croot/xgboost-split_1749630922962/work/src/learner.cc:738: \n",
      "Parameters: { \"use_label_encoder\" } are not used.\n",
      "\n",
      "  bst.update(dtrain, iteration=i, fobj=obj)\n",
      "/usr/local/anaconda3/envs/MSC/lib/python3.11/site-packages/xgboost/training.py:183: UserWarning: [20:46:11] WARNING: /var/folders/sy/f16zz6x50xz3113nwtb9bvq00000gp/T/abs_7eg2b3w9sf/croot/xgboost-split_1749630922962/work/src/learner.cc:738: \n",
      "Parameters: { \"use_label_encoder\" } are not used.\n",
      "\n",
      "  bst.update(dtrain, iteration=i, fobj=obj)\n",
      "/usr/local/anaconda3/envs/MSC/lib/python3.11/site-packages/xgboost/training.py:183: UserWarning: [20:46:11] WARNING: /var/folders/sy/f16zz6x50xz3113nwtb9bvq00000gp/T/abs_7eg2b3w9sf/croot/xgboost-split_1749630922962/work/src/learner.cc:738: \n",
      "Parameters: { \"use_label_encoder\" } are not used.\n",
      "\n",
      "  bst.update(dtrain, iteration=i, fobj=obj)\n",
      "/usr/local/anaconda3/envs/MSC/lib/python3.11/site-packages/xgboost/training.py:183: UserWarning: [20:46:11] WARNING: /var/folders/sy/f16zz6x50xz3113nwtb9bvq00000gp/T/abs_7eg2b3w9sf/croot/xgboost-split_1749630922962/work/src/learner.cc:738: \n",
      "Parameters: { \"use_label_encoder\" } are not used.\n",
      "\n",
      "  bst.update(dtrain, iteration=i, fobj=obj)\n",
      "/usr/local/anaconda3/envs/MSC/lib/python3.11/site-packages/xgboost/training.py:183: UserWarning: [20:46:11] WARNING: /var/folders/sy/f16zz6x50xz3113nwtb9bvq00000gp/T/abs_7eg2b3w9sf/croot/xgboost-split_1749630922962/work/src/learner.cc:738: \n",
      "Parameters: { \"use_label_encoder\" } are not used.\n",
      "\n",
      "  bst.update(dtrain, iteration=i, fobj=obj)\n",
      "/usr/local/anaconda3/envs/MSC/lib/python3.11/site-packages/xgboost/training.py:183: UserWarning: [20:46:11] WARNING: /var/folders/sy/f16zz6x50xz3113nwtb9bvq00000gp/T/abs_7eg2b3w9sf/croot/xgboost-split_1749630922962/work/src/learner.cc:738: \n",
      "Parameters: { \"use_label_encoder\" } are not used.\n",
      "\n",
      "  bst.update(dtrain, iteration=i, fobj=obj)\n",
      "/usr/local/anaconda3/envs/MSC/lib/python3.11/site-packages/xgboost/training.py:183: UserWarning: [20:46:12] WARNING: /var/folders/sy/f16zz6x50xz3113nwtb9bvq00000gp/T/abs_7eg2b3w9sf/croot/xgboost-split_1749630922962/work/src/learner.cc:738: \n",
      "Parameters: { \"use_label_encoder\" } are not used.\n",
      "\n",
      "  bst.update(dtrain, iteration=i, fobj=obj)\n",
      "/usr/local/anaconda3/envs/MSC/lib/python3.11/site-packages/xgboost/training.py:183: UserWarning: [20:46:12] WARNING: /var/folders/sy/f16zz6x50xz3113nwtb9bvq00000gp/T/abs_7eg2b3w9sf/croot/xgboost-split_1749630922962/work/src/learner.cc:738: \n",
      "Parameters: { \"use_label_encoder\" } are not used.\n",
      "\n",
      "  bst.update(dtrain, iteration=i, fobj=obj)\n",
      "/usr/local/anaconda3/envs/MSC/lib/python3.11/site-packages/xgboost/training.py:183: UserWarning: [20:46:12] WARNING: /var/folders/sy/f16zz6x50xz3113nwtb9bvq00000gp/T/abs_7eg2b3w9sf/croot/xgboost-split_1749630922962/work/src/learner.cc:738: \n",
      "Parameters: { \"use_label_encoder\" } are not used.\n",
      "\n",
      "  bst.update(dtrain, iteration=i, fobj=obj)\n",
      "/usr/local/anaconda3/envs/MSC/lib/python3.11/site-packages/xgboost/training.py:183: UserWarning: [20:46:13] WARNING: /var/folders/sy/f16zz6x50xz3113nwtb9bvq00000gp/T/abs_7eg2b3w9sf/croot/xgboost-split_1749630922962/work/src/learner.cc:738: \n",
      "Parameters: { \"use_label_encoder\" } are not used.\n",
      "\n",
      "  bst.update(dtrain, iteration=i, fobj=obj)\n",
      "/usr/local/anaconda3/envs/MSC/lib/python3.11/site-packages/xgboost/training.py:183: UserWarning: [20:46:13] WARNING: /var/folders/sy/f16zz6x50xz3113nwtb9bvq00000gp/T/abs_7eg2b3w9sf/croot/xgboost-split_1749630922962/work/src/learner.cc:738: \n",
      "Parameters: { \"use_label_encoder\" } are not used.\n",
      "\n",
      "  bst.update(dtrain, iteration=i, fobj=obj)\n",
      "/usr/local/anaconda3/envs/MSC/lib/python3.11/site-packages/xgboost/training.py:183: UserWarning: [20:46:13] WARNING: /var/folders/sy/f16zz6x50xz3113nwtb9bvq00000gp/T/abs_7eg2b3w9sf/croot/xgboost-split_1749630922962/work/src/learner.cc:738: \n",
      "Parameters: { \"use_label_encoder\" } are not used.\n",
      "\n",
      "  bst.update(dtrain, iteration=i, fobj=obj)\n",
      "/usr/local/anaconda3/envs/MSC/lib/python3.11/site-packages/xgboost/training.py:183: UserWarning: [20:46:13] WARNING: /var/folders/sy/f16zz6x50xz3113nwtb9bvq00000gp/T/abs_7eg2b3w9sf/croot/xgboost-split_1749630922962/work/src/learner.cc:738: \n",
      "Parameters: { \"use_label_encoder\" } are not used.\n",
      "\n",
      "  bst.update(dtrain, iteration=i, fobj=obj)\n",
      "/usr/local/anaconda3/envs/MSC/lib/python3.11/site-packages/xgboost/training.py:183: UserWarning: [20:46:14] WARNING: /var/folders/sy/f16zz6x50xz3113nwtb9bvq00000gp/T/abs_7eg2b3w9sf/croot/xgboost-split_1749630922962/work/src/learner.cc:738: \n",
      "Parameters: { \"use_label_encoder\" } are not used.\n",
      "\n",
      "  bst.update(dtrain, iteration=i, fobj=obj)\n",
      "/usr/local/anaconda3/envs/MSC/lib/python3.11/site-packages/xgboost/training.py:183: UserWarning: [20:46:14] WARNING: /var/folders/sy/f16zz6x50xz3113nwtb9bvq00000gp/T/abs_7eg2b3w9sf/croot/xgboost-split_1749630922962/work/src/learner.cc:738: \n",
      "Parameters: { \"use_label_encoder\" } are not used.\n",
      "\n",
      "  bst.update(dtrain, iteration=i, fobj=obj)\n",
      "/usr/local/anaconda3/envs/MSC/lib/python3.11/site-packages/xgboost/training.py:183: UserWarning: [20:46:14] WARNING: /var/folders/sy/f16zz6x50xz3113nwtb9bvq00000gp/T/abs_7eg2b3w9sf/croot/xgboost-split_1749630922962/work/src/learner.cc:738: \n",
      "Parameters: { \"use_label_encoder\" } are not used.\n",
      "\n",
      "  bst.update(dtrain, iteration=i, fobj=obj)\n",
      "/usr/local/anaconda3/envs/MSC/lib/python3.11/site-packages/xgboost/training.py:183: UserWarning: [20:46:14] WARNING: /var/folders/sy/f16zz6x50xz3113nwtb9bvq00000gp/T/abs_7eg2b3w9sf/croot/xgboost-split_1749630922962/work/src/learner.cc:738: \n",
      "Parameters: { \"use_label_encoder\" } are not used.\n",
      "\n",
      "  bst.update(dtrain, iteration=i, fobj=obj)\n",
      "/usr/local/anaconda3/envs/MSC/lib/python3.11/site-packages/xgboost/training.py:183: UserWarning: [20:46:14] WARNING: /var/folders/sy/f16zz6x50xz3113nwtb9bvq00000gp/T/abs_7eg2b3w9sf/croot/xgboost-split_1749630922962/work/src/learner.cc:738: \n",
      "Parameters: { \"use_label_encoder\" } are not used.\n",
      "\n",
      "  bst.update(dtrain, iteration=i, fobj=obj)\n",
      "/usr/local/anaconda3/envs/MSC/lib/python3.11/site-packages/xgboost/training.py:183: UserWarning: [20:46:14] WARNING: /var/folders/sy/f16zz6x50xz3113nwtb9bvq00000gp/T/abs_7eg2b3w9sf/croot/xgboost-split_1749630922962/work/src/learner.cc:738: \n",
      "Parameters: { \"use_label_encoder\" } are not used.\n",
      "\n",
      "  bst.update(dtrain, iteration=i, fobj=obj)\n",
      "/usr/local/anaconda3/envs/MSC/lib/python3.11/site-packages/xgboost/training.py:183: UserWarning: [20:46:14] WARNING: /var/folders/sy/f16zz6x50xz3113nwtb9bvq00000gp/T/abs_7eg2b3w9sf/croot/xgboost-split_1749630922962/work/src/learner.cc:738: \n",
      "Parameters: { \"use_label_encoder\" } are not used.\n",
      "\n",
      "  bst.update(dtrain, iteration=i, fobj=obj)\n",
      "/usr/local/anaconda3/envs/MSC/lib/python3.11/site-packages/xgboost/training.py:183: UserWarning: [20:46:14] WARNING: /var/folders/sy/f16zz6x50xz3113nwtb9bvq00000gp/T/abs_7eg2b3w9sf/croot/xgboost-split_1749630922962/work/src/learner.cc:738: \n",
      "Parameters: { \"use_label_encoder\" } are not used.\n",
      "\n",
      "  bst.update(dtrain, iteration=i, fobj=obj)\n",
      "/usr/local/anaconda3/envs/MSC/lib/python3.11/site-packages/xgboost/training.py:183: UserWarning: [20:46:14] WARNING: /var/folders/sy/f16zz6x50xz3113nwtb9bvq00000gp/T/abs_7eg2b3w9sf/croot/xgboost-split_1749630922962/work/src/learner.cc:738: \n",
      "Parameters: { \"use_label_encoder\" } are not used.\n",
      "\n",
      "  bst.update(dtrain, iteration=i, fobj=obj)\n",
      "/usr/local/anaconda3/envs/MSC/lib/python3.11/site-packages/xgboost/training.py:183: UserWarning: [20:46:14] WARNING: /var/folders/sy/f16zz6x50xz3113nwtb9bvq00000gp/T/abs_7eg2b3w9sf/croot/xgboost-split_1749630922962/work/src/learner.cc:738: \n",
      "Parameters: { \"use_label_encoder\" } are not used.\n",
      "\n",
      "  bst.update(dtrain, iteration=i, fobj=obj)\n",
      "/usr/local/anaconda3/envs/MSC/lib/python3.11/site-packages/xgboost/training.py:183: UserWarning: [20:46:14] WARNING: /var/folders/sy/f16zz6x50xz3113nwtb9bvq00000gp/T/abs_7eg2b3w9sf/croot/xgboost-split_1749630922962/work/src/learner.cc:738: \n",
      "Parameters: { \"use_label_encoder\" } are not used.\n",
      "\n",
      "  bst.update(dtrain, iteration=i, fobj=obj)\n",
      "/usr/local/anaconda3/envs/MSC/lib/python3.11/site-packages/xgboost/training.py:183: UserWarning: [20:46:15] WARNING: /var/folders/sy/f16zz6x50xz3113nwtb9bvq00000gp/T/abs_7eg2b3w9sf/croot/xgboost-split_1749630922962/work/src/learner.cc:738: \n",
      "Parameters: { \"use_label_encoder\" } are not used.\n",
      "\n",
      "  bst.update(dtrain, iteration=i, fobj=obj)\n",
      "/usr/local/anaconda3/envs/MSC/lib/python3.11/site-packages/xgboost/training.py:183: UserWarning: [20:46:15] WARNING: /var/folders/sy/f16zz6x50xz3113nwtb9bvq00000gp/T/abs_7eg2b3w9sf/croot/xgboost-split_1749630922962/work/src/learner.cc:738: \n",
      "Parameters: { \"use_label_encoder\" } are not used.\n",
      "\n",
      "  bst.update(dtrain, iteration=i, fobj=obj)\n",
      "/usr/local/anaconda3/envs/MSC/lib/python3.11/site-packages/xgboost/training.py:183: UserWarning: [20:46:15] WARNING: /var/folders/sy/f16zz6x50xz3113nwtb9bvq00000gp/T/abs_7eg2b3w9sf/croot/xgboost-split_1749630922962/work/src/learner.cc:738: \n",
      "Parameters: { \"use_label_encoder\" } are not used.\n",
      "\n",
      "  bst.update(dtrain, iteration=i, fobj=obj)\n",
      "/usr/local/anaconda3/envs/MSC/lib/python3.11/site-packages/xgboost/training.py:183: UserWarning: [20:46:15] WARNING: /var/folders/sy/f16zz6x50xz3113nwtb9bvq00000gp/T/abs_7eg2b3w9sf/croot/xgboost-split_1749630922962/work/src/learner.cc:738: \n",
      "Parameters: { \"use_label_encoder\" } are not used.\n",
      "\n",
      "  bst.update(dtrain, iteration=i, fobj=obj)\n",
      "/usr/local/anaconda3/envs/MSC/lib/python3.11/site-packages/xgboost/training.py:183: UserWarning: [20:46:15] WARNING: /var/folders/sy/f16zz6x50xz3113nwtb9bvq00000gp/T/abs_7eg2b3w9sf/croot/xgboost-split_1749630922962/work/src/learner.cc:738: \n",
      "Parameters: { \"use_label_encoder\" } are not used.\n",
      "\n",
      "  bst.update(dtrain, iteration=i, fobj=obj)\n",
      "/usr/local/anaconda3/envs/MSC/lib/python3.11/site-packages/xgboost/training.py:183: UserWarning: [20:46:15] WARNING: /var/folders/sy/f16zz6x50xz3113nwtb9bvq00000gp/T/abs_7eg2b3w9sf/croot/xgboost-split_1749630922962/work/src/learner.cc:738: \n",
      "Parameters: { \"use_label_encoder\" } are not used.\n",
      "\n",
      "  bst.update(dtrain, iteration=i, fobj=obj)\n",
      "/usr/local/anaconda3/envs/MSC/lib/python3.11/site-packages/xgboost/training.py:183: UserWarning: [20:46:15] WARNING: /var/folders/sy/f16zz6x50xz3113nwtb9bvq00000gp/T/abs_7eg2b3w9sf/croot/xgboost-split_1749630922962/work/src/learner.cc:738: \n",
      "Parameters: { \"use_label_encoder\" } are not used.\n",
      "\n",
      "  bst.update(dtrain, iteration=i, fobj=obj)\n",
      "/usr/local/anaconda3/envs/MSC/lib/python3.11/site-packages/xgboost/training.py:183: UserWarning: [20:46:15] WARNING: /var/folders/sy/f16zz6x50xz3113nwtb9bvq00000gp/T/abs_7eg2b3w9sf/croot/xgboost-split_1749630922962/work/src/learner.cc:738: \n",
      "Parameters: { \"use_label_encoder\" } are not used.\n",
      "\n",
      "  bst.update(dtrain, iteration=i, fobj=obj)\n",
      "/usr/local/anaconda3/envs/MSC/lib/python3.11/site-packages/xgboost/training.py:183: UserWarning: [20:46:15] WARNING: /var/folders/sy/f16zz6x50xz3113nwtb9bvq00000gp/T/abs_7eg2b3w9sf/croot/xgboost-split_1749630922962/work/src/learner.cc:738: \n",
      "Parameters: { \"use_label_encoder\" } are not used.\n",
      "\n",
      "  bst.update(dtrain, iteration=i, fobj=obj)\n",
      "/usr/local/anaconda3/envs/MSC/lib/python3.11/site-packages/xgboost/training.py:183: UserWarning: [20:46:15] WARNING: /var/folders/sy/f16zz6x50xz3113nwtb9bvq00000gp/T/abs_7eg2b3w9sf/croot/xgboost-split_1749630922962/work/src/learner.cc:738: \n",
      "Parameters: { \"use_label_encoder\" } are not used.\n",
      "\n",
      "  bst.update(dtrain, iteration=i, fobj=obj)\n",
      "/usr/local/anaconda3/envs/MSC/lib/python3.11/site-packages/xgboost/training.py:183: UserWarning: [20:46:15] WARNING: /var/folders/sy/f16zz6x50xz3113nwtb9bvq00000gp/T/abs_7eg2b3w9sf/croot/xgboost-split_1749630922962/work/src/learner.cc:738: \n",
      "Parameters: { \"use_label_encoder\" } are not used.\n",
      "\n",
      "  bst.update(dtrain, iteration=i, fobj=obj)\n",
      "/usr/local/anaconda3/envs/MSC/lib/python3.11/site-packages/xgboost/training.py:183: UserWarning: [20:46:16] WARNING: /var/folders/sy/f16zz6x50xz3113nwtb9bvq00000gp/T/abs_7eg2b3w9sf/croot/xgboost-split_1749630922962/work/src/learner.cc:738: \n",
      "Parameters: { \"use_label_encoder\" } are not used.\n",
      "\n",
      "  bst.update(dtrain, iteration=i, fobj=obj)\n",
      "/usr/local/anaconda3/envs/MSC/lib/python3.11/site-packages/xgboost/training.py:183: UserWarning: [20:46:16] WARNING: /var/folders/sy/f16zz6x50xz3113nwtb9bvq00000gp/T/abs_7eg2b3w9sf/croot/xgboost-split_1749630922962/work/src/learner.cc:738: \n",
      "Parameters: { \"use_label_encoder\" } are not used.\n",
      "\n",
      "  bst.update(dtrain, iteration=i, fobj=obj)\n",
      "/usr/local/anaconda3/envs/MSC/lib/python3.11/site-packages/xgboost/training.py:183: UserWarning: [20:46:16] WARNING: /var/folders/sy/f16zz6x50xz3113nwtb9bvq00000gp/T/abs_7eg2b3w9sf/croot/xgboost-split_1749630922962/work/src/learner.cc:738: \n",
      "Parameters: { \"use_label_encoder\" } are not used.\n",
      "\n",
      "  bst.update(dtrain, iteration=i, fobj=obj)\n",
      "/usr/local/anaconda3/envs/MSC/lib/python3.11/site-packages/xgboost/training.py:183: UserWarning: [20:46:16] WARNING: /var/folders/sy/f16zz6x50xz3113nwtb9bvq00000gp/T/abs_7eg2b3w9sf/croot/xgboost-split_1749630922962/work/src/learner.cc:738: \n",
      "Parameters: { \"use_label_encoder\" } are not used.\n",
      "\n",
      "  bst.update(dtrain, iteration=i, fobj=obj)\n",
      "/usr/local/anaconda3/envs/MSC/lib/python3.11/site-packages/xgboost/training.py:183: UserWarning: [20:46:16] WARNING: /var/folders/sy/f16zz6x50xz3113nwtb9bvq00000gp/T/abs_7eg2b3w9sf/croot/xgboost-split_1749630922962/work/src/learner.cc:738: \n",
      "Parameters: { \"use_label_encoder\" } are not used.\n",
      "\n",
      "  bst.update(dtrain, iteration=i, fobj=obj)\n",
      "/usr/local/anaconda3/envs/MSC/lib/python3.11/site-packages/xgboost/training.py:183: UserWarning: [20:46:16] WARNING: /var/folders/sy/f16zz6x50xz3113nwtb9bvq00000gp/T/abs_7eg2b3w9sf/croot/xgboost-split_1749630922962/work/src/learner.cc:738: \n",
      "Parameters: { \"use_label_encoder\" } are not used.\n",
      "\n",
      "  bst.update(dtrain, iteration=i, fobj=obj)\n",
      "/usr/local/anaconda3/envs/MSC/lib/python3.11/site-packages/xgboost/training.py:183: UserWarning: [20:46:16] WARNING: /var/folders/sy/f16zz6x50xz3113nwtb9bvq00000gp/T/abs_7eg2b3w9sf/croot/xgboost-split_1749630922962/work/src/learner.cc:738: \n",
      "Parameters: { \"use_label_encoder\" } are not used.\n",
      "\n",
      "  bst.update(dtrain, iteration=i, fobj=obj)\n",
      "/usr/local/anaconda3/envs/MSC/lib/python3.11/site-packages/xgboost/training.py:183: UserWarning: [20:46:16] WARNING: /var/folders/sy/f16zz6x50xz3113nwtb9bvq00000gp/T/abs_7eg2b3w9sf/croot/xgboost-split_1749630922962/work/src/learner.cc:738: \n",
      "Parameters: { \"use_label_encoder\" } are not used.\n",
      "\n",
      "  bst.update(dtrain, iteration=i, fobj=obj)\n",
      "/usr/local/anaconda3/envs/MSC/lib/python3.11/site-packages/xgboost/training.py:183: UserWarning: [20:46:16] WARNING: /var/folders/sy/f16zz6x50xz3113nwtb9bvq00000gp/T/abs_7eg2b3w9sf/croot/xgboost-split_1749630922962/work/src/learner.cc:738: \n",
      "Parameters: { \"use_label_encoder\" } are not used.\n",
      "\n",
      "  bst.update(dtrain, iteration=i, fobj=obj)\n",
      "/usr/local/anaconda3/envs/MSC/lib/python3.11/site-packages/xgboost/training.py:183: UserWarning: [20:46:16] WARNING: /var/folders/sy/f16zz6x50xz3113nwtb9bvq00000gp/T/abs_7eg2b3w9sf/croot/xgboost-split_1749630922962/work/src/learner.cc:738: \n",
      "Parameters: { \"use_label_encoder\" } are not used.\n",
      "\n",
      "  bst.update(dtrain, iteration=i, fobj=obj)\n",
      "/usr/local/anaconda3/envs/MSC/lib/python3.11/site-packages/xgboost/training.py:183: UserWarning: [20:46:16] WARNING: /var/folders/sy/f16zz6x50xz3113nwtb9bvq00000gp/T/abs_7eg2b3w9sf/croot/xgboost-split_1749630922962/work/src/learner.cc:738: \n",
      "Parameters: { \"use_label_encoder\" } are not used.\n",
      "\n",
      "  bst.update(dtrain, iteration=i, fobj=obj)\n",
      "/usr/local/anaconda3/envs/MSC/lib/python3.11/site-packages/xgboost/training.py:183: UserWarning: [20:46:16] WARNING: /var/folders/sy/f16zz6x50xz3113nwtb9bvq00000gp/T/abs_7eg2b3w9sf/croot/xgboost-split_1749630922962/work/src/learner.cc:738: \n",
      "Parameters: { \"use_label_encoder\" } are not used.\n",
      "\n",
      "  bst.update(dtrain, iteration=i, fobj=obj)\n",
      "/usr/local/anaconda3/envs/MSC/lib/python3.11/site-packages/xgboost/training.py:183: UserWarning: [20:46:16] WARNING: /var/folders/sy/f16zz6x50xz3113nwtb9bvq00000gp/T/abs_7eg2b3w9sf/croot/xgboost-split_1749630922962/work/src/learner.cc:738: \n",
      "Parameters: { \"use_label_encoder\" } are not used.\n",
      "\n",
      "  bst.update(dtrain, iteration=i, fobj=obj)\n",
      "/usr/local/anaconda3/envs/MSC/lib/python3.11/site-packages/xgboost/training.py:183: UserWarning: [20:46:17] WARNING: /var/folders/sy/f16zz6x50xz3113nwtb9bvq00000gp/T/abs_7eg2b3w9sf/croot/xgboost-split_1749630922962/work/src/learner.cc:738: \n",
      "Parameters: { \"use_label_encoder\" } are not used.\n",
      "\n",
      "  bst.update(dtrain, iteration=i, fobj=obj)\n",
      "/usr/local/anaconda3/envs/MSC/lib/python3.11/site-packages/xgboost/training.py:183: UserWarning: [20:46:17] WARNING: /var/folders/sy/f16zz6x50xz3113nwtb9bvq00000gp/T/abs_7eg2b3w9sf/croot/xgboost-split_1749630922962/work/src/learner.cc:738: \n",
      "Parameters: { \"use_label_encoder\" } are not used.\n",
      "\n",
      "  bst.update(dtrain, iteration=i, fobj=obj)\n",
      "/usr/local/anaconda3/envs/MSC/lib/python3.11/site-packages/xgboost/training.py:183: UserWarning: [20:46:17] WARNING: /var/folders/sy/f16zz6x50xz3113nwtb9bvq00000gp/T/abs_7eg2b3w9sf/croot/xgboost-split_1749630922962/work/src/learner.cc:738: \n",
      "Parameters: { \"use_label_encoder\" } are not used.\n",
      "\n",
      "  bst.update(dtrain, iteration=i, fobj=obj)\n",
      "/usr/local/anaconda3/envs/MSC/lib/python3.11/site-packages/xgboost/training.py:183: UserWarning: [20:46:17] WARNING: /var/folders/sy/f16zz6x50xz3113nwtb9bvq00000gp/T/abs_7eg2b3w9sf/croot/xgboost-split_1749630922962/work/src/learner.cc:738: \n",
      "Parameters: { \"use_label_encoder\" } are not used.\n",
      "\n",
      "  bst.update(dtrain, iteration=i, fobj=obj)\n",
      "/usr/local/anaconda3/envs/MSC/lib/python3.11/site-packages/xgboost/training.py:183: UserWarning: [20:46:18] WARNING: /var/folders/sy/f16zz6x50xz3113nwtb9bvq00000gp/T/abs_7eg2b3w9sf/croot/xgboost-split_1749630922962/work/src/learner.cc:738: \n",
      "Parameters: { \"use_label_encoder\" } are not used.\n",
      "\n",
      "  bst.update(dtrain, iteration=i, fobj=obj)\n",
      "/usr/local/anaconda3/envs/MSC/lib/python3.11/site-packages/xgboost/training.py:183: UserWarning: [20:46:18] WARNING: /var/folders/sy/f16zz6x50xz3113nwtb9bvq00000gp/T/abs_7eg2b3w9sf/croot/xgboost-split_1749630922962/work/src/learner.cc:738: \n",
      "Parameters: { \"use_label_encoder\" } are not used.\n",
      "\n",
      "  bst.update(dtrain, iteration=i, fobj=obj)\n",
      "/usr/local/anaconda3/envs/MSC/lib/python3.11/site-packages/xgboost/training.py:183: UserWarning: [20:46:18] WARNING: /var/folders/sy/f16zz6x50xz3113nwtb9bvq00000gp/T/abs_7eg2b3w9sf/croot/xgboost-split_1749630922962/work/src/learner.cc:738: \n",
      "Parameters: { \"use_label_encoder\" } are not used.\n",
      "\n",
      "  bst.update(dtrain, iteration=i, fobj=obj)\n",
      "/usr/local/anaconda3/envs/MSC/lib/python3.11/site-packages/xgboost/training.py:183: UserWarning: [20:46:18] WARNING: /var/folders/sy/f16zz6x50xz3113nwtb9bvq00000gp/T/abs_7eg2b3w9sf/croot/xgboost-split_1749630922962/work/src/learner.cc:738: \n",
      "Parameters: { \"use_label_encoder\" } are not used.\n",
      "\n",
      "  bst.update(dtrain, iteration=i, fobj=obj)\n",
      "/usr/local/anaconda3/envs/MSC/lib/python3.11/site-packages/xgboost/training.py:183: UserWarning: [20:46:18] WARNING: /var/folders/sy/f16zz6x50xz3113nwtb9bvq00000gp/T/abs_7eg2b3w9sf/croot/xgboost-split_1749630922962/work/src/learner.cc:738: \n",
      "Parameters: { \"use_label_encoder\" } are not used.\n",
      "\n",
      "  bst.update(dtrain, iteration=i, fobj=obj)\n"
     ]
    }
   ],
   "source": [
    "# XGBoost\n",
    "xgb_grid = GridSearchCV(XGBClassifier(eval_metric='logloss', use_label_encoder=False), xgb_param_grid, cv=5, scoring='f1')\n",
    "xgb_grid.fit(X_train_res, y_train_res)\n",
    "best_xgb = xgb_grid.best_estimator_"
   ]
  },
  {
   "cell_type": "markdown",
   "id": "22a2630c-7006-4b05-97f0-703af040fb1a",
   "metadata": {},
   "source": [
    "### 5: Evaluate Tuned Models"
   ]
  },
  {
   "cell_type": "code",
   "execution_count": 23,
   "id": "8171a6a0-447f-4c70-b397-0d333b50355c",
   "metadata": {},
   "outputs": [],
   "source": [
    "# Predictions\n",
    "y_pred_lr = best_lr.predict(X_test)\n",
    "y_pred_rf = best_rf.predict(X_test)\n",
    "y_pred_xgb = best_xgb.predict(X_test)\n",
    "\n",
    "# Probabilities for ROC AUC\n",
    "y_proba_lr = best_lr.predict_proba(X_test)[:, 1]\n",
    "y_proba_rf = best_rf.predict_proba(X_test)[:, 1]\n",
    "y_proba_xgb = best_xgb.predict_proba(X_test)[:, 1]\n",
    "\n",
    "# AUC\n",
    "auc_lr = auc(*roc_curve(y_test, y_proba_lr)[:2])\n",
    "auc_rf = auc(*roc_curve(y_test, y_proba_rf)[:2])\n",
    "auc_xgb = auc(*roc_curve(y_test, y_proba_xgb)[:2])\n"
   ]
  },
  {
   "cell_type": "markdown",
   "id": "586b77ad-9f9c-4d8e-b719-66794806a2b1",
   "metadata": {},
   "source": [
    "### 6: Visual Comparison Bar Chart"
   ]
  },
  {
   "cell_type": "code",
   "execution_count": 24,
   "id": "2e85eb7e-427d-42bf-ae68-112bf67a537d",
   "metadata": {},
   "outputs": [
    {
     "name": "stderr",
     "output_type": "stream",
     "text": [
      "/var/folders/xb/pyk74hnn56sf6xk3d2grf0_h0000gp/T/ipykernel_47184/2715964986.py:19: UserWarning: Glyph 128202 (\\N{BAR CHART}) missing from current font.\n",
      "  plt.tight_layout()\n",
      "/usr/local/anaconda3/envs/MSC/lib/python3.11/site-packages/IPython/core/pylabtools.py:152: UserWarning: Glyph 128202 (\\N{BAR CHART}) missing from current font.\n",
      "  fig.canvas.print_figure(bytes_io, **kw)\n"
     ]
    },
    {
     "data": {
      "image/png": "[encoded data removed]",
      "text/plain": [
       "<Figure size 1200x600 with 1 Axes>"
      ]
     },
     "metadata": {},
     "output_type": "display_data"
    }
   ],
   "source": [
    "metrics_df = pd.DataFrame({\n",
    "    \"Model\": [\"Tuned Logistic Regression\", \"Tuned Random Forest\", \"Tuned XGBoost\"],\n",
    "    \"Accuracy\": [accuracy_score(y_test, y_pred_lr), accuracy_score(y_test, y_pred_rf), accuracy_score(y_test, y_pred_xgb)],\n",
    "    \"Precision\": [precision_score(y_test, y_pred_lr), precision_score(y_test, y_pred_rf), precision_score(y_test, y_pred_xgb)],\n",
    "    \"Recall\": [recall_score(y_test, y_pred_lr), recall_score(y_test, y_pred_rf), recall_score(y_test, y_pred_xgb)],\n",
    "    \"F1 Score\": [f1_score(y_test, y_pred_lr), f1_score(y_test, y_pred_rf), f1_score(y_test, y_pred_xgb)],\n",
    "    \"ROC AUC\": [auc_lr, auc_rf, auc_xgb]\n",
    "})\n",
    "\n",
    "metrics_df.set_index(\"Model\", inplace=True)\n",
    "\n",
    "# Bar Chart\n",
    "metrics_df.plot(kind=\"bar\", figsize=(12, 6), colormap=\"Set2\", edgecolor=\"black\")\n",
    "plt.title(\"📊 Tuned Model Performance Comparison\")\n",
    "plt.ylabel(\"Score\")\n",
    "plt.ylim(0, 1.1)\n",
    "plt.grid(axis=\"y\", linestyle=\"--\", alpha=0.7)\n",
    "plt.xticks(rotation=0)\n",
    "plt.tight_layout()\n",
    "plt.show()\n"
   ]
  },
  {
   "cell_type": "markdown",
   "id": "7736935e-cb47-4bc3-b305-4d293b382e20",
   "metadata": {},
   "source": [
    "### 7: Save Best Models"
   ]
  },
  {
   "cell_type": "code",
   "execution_count": 30,
   "id": "5c70a911-095c-49a4-89b4-cd160e972225",
   "metadata": {},
   "outputs": [],
   "source": [
    "import joblib\n",
    "### joblib.dump(best_lr, \"../models/best_logistic_regression.pkl\")"
   ]
  },
  {
   "cell_type": "code",
   "execution_count": 31,
   "id": "742e8ea5-8f23-4705-9d53-a0d13b186c3f",
   "metadata": {},
   "outputs": [
    {
     "data": {
      "text/plain": [
       "['../models/best_random_forest.pkl']"
      ]
     },
     "execution_count": 31,
     "metadata": {},
     "output_type": "execute_result"
    }
   ],
   "source": [
    "joblib.dump(best_rf, \"../models/best_random_forest.pkl\")"
   ]
  },
  {
   "cell_type": "code",
   "execution_count": 32,
   "id": "8156ebe3-288c-47cf-8557-ec791c9fe33a",
   "metadata": {},
   "outputs": [],
   "source": [
    "### joblib.dump(best_xgb, \"../models/best_xgboost.pkl\")"
   ]
  },
  {
   "cell_type": "code",
   "execution_count": null,
   "id": "89f93b17-b888-495a-9eb6-37c5b340f7f3",
   "metadata": {},
   "outputs": [],
   "source": []
  }
 ],
 "metadata": {
  "kernelspec": {
   "display_name": "Python 3 (ipykernel)",
   "language": "python",
   "name": "python3"
  },
  "language_info": {
   "codemirror_mode": {
    "name": "ipython",
    "version": 3
   },
   "file_extension": ".py",
   "mimetype": "text/x-python",
   "name": "python",
   "nbconvert_exporter": "python",
   "pygments_lexer": "ipython3",
   "version": "3.11.8"
  }
 },
 "nbformat": 4,
 "nbformat_minor": 5
}
